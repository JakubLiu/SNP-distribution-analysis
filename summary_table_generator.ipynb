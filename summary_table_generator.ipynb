{
 "cells": [
  {
   "cell_type": "markdown",
   "id": "ba3850cc",
   "metadata": {},
   "source": [
    "# Exons"
   ]
  },
  {
   "cell_type": "markdown",
   "id": "62848328",
   "metadata": {},
   "source": [
    "### reading in txt files a python lists"
   ]
  },
  {
   "cell_type": "code",
   "execution_count": 15,
   "id": "dc80fb88",
   "metadata": {},
   "outputs": [],
   "source": [
    "file = open(\"C:/Users/Lenovo/Desktop/STUDIA/BIOINFORMATYKA/MASTER/CANONICAL/EXCEL_INPUT_FILE/chr1_exon_genes_POS.txt\", 'r')\n",
    "\n",
    "data = file.read()\n",
    "\n",
    "chr1_exon_header_LIST = data.replace('\\n', ' ').split(\" \")\n",
    "\n",
    "chr1_exon_header_LIST.pop(0)\n",
    "chr1_exon_header_LIST.pop(-1)\n",
    "#print(chr1_exon_header_LIST)\n",
    "file.close()"
   ]
  },
  {
   "cell_type": "code",
   "execution_count": 5,
   "id": "c540b119",
   "metadata": {},
   "outputs": [],
   "source": [
    "file = open(\"C:/Users/Lenovo/Desktop/STUDIA/BIOINFORMATYKA/MASTER/CANONICAL/EXCEL_INPUT_FILE/chr1_exon_genes_COUNT.txt\", 'r')\n",
    "\n",
    "data = file.read()\n",
    "\n",
    "chr1_exon_genes_COUNT_LIST = data.replace('\\n', ' ').split(\" \")\n",
    "\n",
    "chr1_exon_genes_COUNT_LIST.pop(0)\n",
    "chr1_exon_genes_COUNT_LIST.pop(-1)\n",
    "#print(chr1_exon_genes_COUNT_LIST)\n",
    "file.close()"
   ]
  },
  {
   "cell_type": "markdown",
   "id": "bc20f925",
   "metadata": {},
   "source": [
    "#### generate chr 1 exon snp count file\n",
    "#### generate chr 22 exon gene count file\n",
    "#### generate chr 22 exon snp count file\n",
    "#### use AWK to generate those files\n",
    "#### and offcourse do all of this for the introns"
   ]
  },
  {
   "cell_type": "markdown",
   "id": "64dec299",
   "metadata": {},
   "source": [
    "##### checking the length of the lists"
   ]
  },
  {
   "cell_type": "code",
   "execution_count": 6,
   "id": "cc742e20",
   "metadata": {},
   "outputs": [
    {
     "name": "stdout",
     "output_type": "stream",
     "text": [
      "69\n",
      "69\n"
     ]
    }
   ],
   "source": [
    "print(len(chr1_exon_genes_COUNT_LIST))\n",
    "print(len(chr1_exon_header_LIST))"
   ]
  },
  {
   "cell_type": "markdown",
   "id": "b6322134",
   "metadata": {},
   "source": [
    "### creating empty dataframe of given size "
   ]
  },
  {
   "cell_type": "code",
   "execution_count": 13,
   "id": "de0bf7dc",
   "metadata": {},
   "outputs": [],
   "source": [
    "exon_df = pd.DataFrame(index = range(4), columns = range(len(chr1_exon_genes_COUNT_LIST)))\n",
    "#print(exon_df)"
   ]
  },
  {
   "cell_type": "markdown",
   "id": "6e2b55f9",
   "metadata": {},
   "source": [
    "### populating the empty dataframe"
   ]
  },
  {
   "cell_type": "code",
   "execution_count": 14,
   "id": "f3260bd7",
   "metadata": {},
   "outputs": [
    {
     "name": "stdout",
     "output_type": "stream",
     "text": [
      "                          1    2    3    4    5    6    7    8    9   10  ...  \\\n",
      "chr1_exon_gene_count   1681  895  486  355  234  201  155  155  125  117  ...   \n",
      "chr1_exon_SNP_count     NaN  NaN  NaN  NaN  NaN  NaN  NaN  NaN  NaN  NaN  ...   \n",
      "chr22_exon_gene_count   NaN  NaN  NaN  NaN  NaN  NaN  NaN  NaN  NaN  NaN  ...   \n",
      "chr22_exon_SNP_count    NaN  NaN  NaN  NaN  NaN  NaN  NaN  NaN  NaN  NaN  ...   \n",
      "\n",
      "                        86   90   94   97  101  105  106  107  116  138  \n",
      "chr1_exon_gene_count     1    1    1    2    1    1    1    1    1    1  \n",
      "chr1_exon_SNP_count    NaN  NaN  NaN  NaN  NaN  NaN  NaN  NaN  NaN  NaN  \n",
      "chr22_exon_gene_count  NaN  NaN  NaN  NaN  NaN  NaN  NaN  NaN  NaN  NaN  \n",
      "chr22_exon_SNP_count   NaN  NaN  NaN  NaN  NaN  NaN  NaN  NaN  NaN  NaN  \n",
      "\n",
      "[4 rows x 69 columns]\n"
     ]
    }
   ],
   "source": [
    "exon_df.columns = chr1_exon_header_LIST          # creating the column names\n",
    "\n",
    "exon_df.index = ['chr1_exon_gene_count', 'chr1_exon_SNP_count', 'chr22_exon_gene_count', 'chr22_exon_SNP_count']  # creating the row names\n",
    "\n",
    "exon_df.iloc[0,:] = chr1_exon_genes_COUNT_LIST   # populating the first row\n",
    "\n",
    "\n",
    "\n",
    "print(exon_df)"
   ]
  },
  {
   "cell_type": "markdown",
   "id": "418f0467",
   "metadata": {},
   "source": [
    "# Introns"
   ]
  },
  {
   "cell_type": "code",
   "execution_count": null,
   "id": "df669876",
   "metadata": {},
   "outputs": [],
   "source": []
  }
 ],
 "metadata": {
  "kernelspec": {
   "display_name": "Python 3 (ipykernel)",
   "language": "python",
   "name": "python3"
  },
  "language_info": {
   "codemirror_mode": {
    "name": "ipython",
    "version": 3
   },
   "file_extension": ".py",
   "mimetype": "text/x-python",
   "name": "python",
   "nbconvert_exporter": "python",
   "pygments_lexer": "ipython3",
   "version": "3.8.12"
  }
 },
 "nbformat": 4,
 "nbformat_minor": 5
}
